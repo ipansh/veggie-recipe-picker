{
 "cells": [
  {
   "cell_type": "code",
   "execution_count": null,
   "metadata": {},
   "outputs": [],
   "source": [
    "import requests\n",
    "\n",
    "url = \"https://yummly2.p.rapidapi.com/feeds/search\"\n",
    "\n",
    "querystring = {\"start\":\"0\",\"maxResult\":\"30\",\"meatyMax\":\"0.5\",\"maxTotalTimeInSeconds\":\"3600\",\"meatyMin\":\"0.4\",\"FAT_KCALMax\":\"1000\"}\n",
    "\n",
    "headers = {\n",
    "    'x-rapidapi-host': \"yummly2.p.rapidapi.com\",\n",
    "    'x-rapidapi-key': \"0e7d662bd7mshf50a60a4f53eb1cp199dd6jsne50b62cf20ac\"\n",
    "    }\n",
    "\n",
    "response = requests.request(\"GET\", url, headers=headers, params=querystring).json()\n",
    "\n",
    "response"
   ]
  },
  {
   "cell_type": "code",
   "execution_count": 52,
   "metadata": {},
   "outputs": [],
   "source": [
    "import pandas as pd"
   ]
  },
  {
   "cell_type": "code",
   "execution_count": 249,
   "metadata": {},
   "outputs": [],
   "source": [
    "recipe_dict = {}\n",
    "\n",
    "for item in response['feed']:\n",
    "    ingredient_list = []\n",
    "    for ingredient_group in item['content']['ingredientLines']:\n",
    "        ingredient_list.append(ingredient_group['ingredient'])\n",
    "    recipe_dict[item['tracking-id']] = ingredient_list"
   ]
  },
  {
   "cell_type": "code",
   "execution_count": 287,
   "metadata": {},
   "outputs": [],
   "source": [
    "main_df = pd.DataFrame()"
   ]
  },
  {
   "cell_type": "code",
   "execution_count": 288,
   "metadata": {},
   "outputs": [],
   "source": [
    "main_df['recipe_id'] = [recipe.replace('recipe/','').split('-')[-1] for recipe in list(recipe_dict.keys())]\n",
    "main_df['recipe_name'] = [' '.join(recipe.replace('recipe/','').split('-')[:-1]) for recipe in list(recipe_dict.keys())]"
   ]
  },
  {
   "cell_type": "code",
   "execution_count": 294,
   "metadata": {},
   "outputs": [],
   "source": [
    "main_df['inredients'] = list(recipe_dict.values())"
   ]
  },
  {
   "cell_type": "code",
   "execution_count": 295,
   "metadata": {},
   "outputs": [
    {
     "data": {
      "text/html": [
       "<div>\n",
       "<style scoped>\n",
       "    .dataframe tbody tr th:only-of-type {\n",
       "        vertical-align: middle;\n",
       "    }\n",
       "\n",
       "    .dataframe tbody tr th {\n",
       "        vertical-align: top;\n",
       "    }\n",
       "\n",
       "    .dataframe thead th {\n",
       "        text-align: right;\n",
       "    }\n",
       "</style>\n",
       "<table border=\"1\" class=\"dataframe\">\n",
       "  <thead>\n",
       "    <tr style=\"text-align: right;\">\n",
       "      <th></th>\n",
       "      <th>recipe_id</th>\n",
       "      <th>recipe_name</th>\n",
       "      <th>inredients</th>\n",
       "    </tr>\n",
       "  </thead>\n",
       "  <tbody>\n",
       "    <tr>\n",
       "      <th>0</th>\n",
       "      <td>9258139</td>\n",
       "      <td>DIY Homemade Taco Seasoning</td>\n",
       "      <td>[chili powder, ground cumin, salt, ground blac...</td>\n",
       "    </tr>\n",
       "    <tr>\n",
       "      <th>1</th>\n",
       "      <td>1512819</td>\n",
       "      <td>Meatloaf</td>\n",
       "      <td>[ground beef, finely chopped onion, eggs, plai...</td>\n",
       "    </tr>\n",
       "    <tr>\n",
       "      <th>2</th>\n",
       "      <td>1806994</td>\n",
       "      <td>Glazed Meatloaf</td>\n",
       "      <td>[ketchup, brown sugar, cider vinegar, hot sauc...</td>\n",
       "    </tr>\n",
       "    <tr>\n",
       "      <th>3</th>\n",
       "      <td>2602005</td>\n",
       "      <td>Easy Tuna Casserole</td>\n",
       "      <td>[egg noodles, butter, small onion, celery, fro...</td>\n",
       "    </tr>\n",
       "    <tr>\n",
       "      <th>4</th>\n",
       "      <td>9231456</td>\n",
       "      <td>GARLIC BUTTER SEAFOOD BOIL</td>\n",
       "      <td>[crab legs, shrimp, andouille sausage, corn on...</td>\n",
       "    </tr>\n",
       "    <tr>\n",
       "      <th>5</th>\n",
       "      <td>2502752</td>\n",
       "      <td>Best Salmon Patties</td>\n",
       "      <td>[pink salmon, eggs, bread crumbs, green onions...</td>\n",
       "    </tr>\n",
       "    <tr>\n",
       "      <th>6</th>\n",
       "      <td>2689522</td>\n",
       "      <td>White Velvet Buttermilk Cake</td>\n",
       "      <td>[cake flour, granulated sugar, salt, baking po...</td>\n",
       "    </tr>\n",
       "    <tr>\n",
       "      <th>7</th>\n",
       "      <td>9101918</td>\n",
       "      <td>Creamy Chicken Soup</td>\n",
       "      <td>[oil, unsalted butter, all purpose flour, chic...</td>\n",
       "    </tr>\n",
       "    <tr>\n",
       "      <th>8</th>\n",
       "      <td>2617198</td>\n",
       "      <td>Instant Pot Chipotle Pork Shoulder</td>\n",
       "      <td>[onions, kosher salt, freshly ground black pep...</td>\n",
       "    </tr>\n",
       "    <tr>\n",
       "      <th>9</th>\n",
       "      <td>2029444</td>\n",
       "      <td>Chicken Pot Pie</td>\n",
       "      <td>[chicken, sliced carrots, frozen green peas, c...</td>\n",
       "    </tr>\n",
       "    <tr>\n",
       "      <th>10</th>\n",
       "      <td>1593238</td>\n",
       "      <td>1_ Honey BBQ Chicken Wings</td>\n",
       "      <td>[flour, chili powder, kosher salt, freshly gro...</td>\n",
       "    </tr>\n",
       "    <tr>\n",
       "      <th>11</th>\n",
       "      <td>9077581</td>\n",
       "      <td>Cinnamon Roll Waffles</td>\n",
       "      <td>[all purpose flour, granulated white sugar, ba...</td>\n",
       "    </tr>\n",
       "    <tr>\n",
       "      <th>12</th>\n",
       "      <td>2633214</td>\n",
       "      <td>Chocolate Zucchini Cake</td>\n",
       "      <td>[all purpose flour, natural cocoa powder, baki...</td>\n",
       "    </tr>\n",
       "    <tr>\n",
       "      <th>13</th>\n",
       "      <td>2211726</td>\n",
       "      <td>Sinful Apple Muffins</td>\n",
       "      <td>[cinnamon, baking soda, salt, eggs, sugar, oil...</td>\n",
       "    </tr>\n",
       "    <tr>\n",
       "      <th>14</th>\n",
       "      <td>2105782</td>\n",
       "      <td>Carne Asada Traditional Taco</td>\n",
       "      <td>[white vinegar, soy sauce, minced garlic, lime...</td>\n",
       "    </tr>\n",
       "    <tr>\n",
       "      <th>15</th>\n",
       "      <td>9343883</td>\n",
       "      <td>Avocado Ranch Pork Chops and Rice</td>\n",
       "      <td>[water, Southwest vegetable blend, ranch dress...</td>\n",
       "    </tr>\n",
       "    <tr>\n",
       "      <th>16</th>\n",
       "      <td>9339368</td>\n",
       "      <td>Easy Chicken _ Cheese Enchiladas</td>\n",
       "      <td>[Campbell's® Condensed Cream of Chicken Soup, ...</td>\n",
       "    </tr>\n",
       "    <tr>\n",
       "      <th>17</th>\n",
       "      <td>9307995</td>\n",
       "      <td>Chicken Teriyaki Noodle Bowls</td>\n",
       "      <td>[cooking oil spray, cornstarch, cold water, re...</td>\n",
       "    </tr>\n",
       "  </tbody>\n",
       "</table>\n",
       "</div>"
      ],
      "text/plain": [
       "   recipe_id                         recipe_name  \\\n",
       "0    9258139         DIY Homemade Taco Seasoning   \n",
       "1    1512819                            Meatloaf   \n",
       "2    1806994                     Glazed Meatloaf   \n",
       "3    2602005                 Easy Tuna Casserole   \n",
       "4    9231456          GARLIC BUTTER SEAFOOD BOIL   \n",
       "5    2502752                 Best Salmon Patties   \n",
       "6    2689522        White Velvet Buttermilk Cake   \n",
       "7    9101918                 Creamy Chicken Soup   \n",
       "8    2617198  Instant Pot Chipotle Pork Shoulder   \n",
       "9    2029444                     Chicken Pot Pie   \n",
       "10   1593238          1_ Honey BBQ Chicken Wings   \n",
       "11   9077581               Cinnamon Roll Waffles   \n",
       "12   2633214             Chocolate Zucchini Cake   \n",
       "13   2211726                Sinful Apple Muffins   \n",
       "14   2105782        Carne Asada Traditional Taco   \n",
       "15   9343883   Avocado Ranch Pork Chops and Rice   \n",
       "16   9339368    Easy Chicken _ Cheese Enchiladas   \n",
       "17   9307995       Chicken Teriyaki Noodle Bowls   \n",
       "\n",
       "                                           inredients  \n",
       "0   [chili powder, ground cumin, salt, ground blac...  \n",
       "1   [ground beef, finely chopped onion, eggs, plai...  \n",
       "2   [ketchup, brown sugar, cider vinegar, hot sauc...  \n",
       "3   [egg noodles, butter, small onion, celery, fro...  \n",
       "4   [crab legs, shrimp, andouille sausage, corn on...  \n",
       "5   [pink salmon, eggs, bread crumbs, green onions...  \n",
       "6   [cake flour, granulated sugar, salt, baking po...  \n",
       "7   [oil, unsalted butter, all purpose flour, chic...  \n",
       "8   [onions, kosher salt, freshly ground black pep...  \n",
       "9   [chicken, sliced carrots, frozen green peas, c...  \n",
       "10  [flour, chili powder, kosher salt, freshly gro...  \n",
       "11  [all purpose flour, granulated white sugar, ba...  \n",
       "12  [all purpose flour, natural cocoa powder, baki...  \n",
       "13  [cinnamon, baking soda, salt, eggs, sugar, oil...  \n",
       "14  [white vinegar, soy sauce, minced garlic, lime...  \n",
       "15  [water, Southwest vegetable blend, ranch dress...  \n",
       "16  [Campbell's® Condensed Cream of Chicken Soup, ...  \n",
       "17  [cooking oil spray, cornstarch, cold water, re...  "
      ]
     },
     "execution_count": 295,
     "metadata": {},
     "output_type": "execute_result"
    }
   ],
   "source": [
    "main_df"
   ]
  },
  {
   "cell_type": "code",
   "execution_count": 270,
   "metadata": {},
   "outputs": [
    {
     "data": {
      "text/plain": [
       "' DIY Homemade Taco Seasoning'"
      ]
     },
     "execution_count": 270,
     "metadata": {},
     "output_type": "execute_result"
    }
   ],
   "source": [
    "exp_string = '-DIY-Homemade-Taco-Seasoning-9258139'\n",
    "' '.join(exp_string.split('-')[:-1])"
   ]
  },
  {
   "cell_type": "code",
   "execution_count": 258,
   "metadata": {},
   "outputs": [
    {
     "name": "stdout",
     "output_type": "stream",
     "text": [
      "chili powder\n",
      "ground beef\n",
      "ketchup\n",
      "egg noodles\n",
      "crab legs\n",
      "pink salmon\n",
      "cake flour\n",
      "oil\n",
      "onions\n",
      "chicken\n",
      "flour\n",
      "all purpose flour\n",
      "all purpose flour\n",
      "cinnamon\n",
      "white vinegar\n",
      "water\n",
      "Campbell's® Condensed Cream of Chicken Soup\n",
      "cooking oil spray\n"
     ]
    }
   ],
   "source": [
    "for val in recipe_dict.values():\n",
    "    print(val[0])"
   ]
  },
  {
   "cell_type": "code",
   "execution_count": 210,
   "metadata": {},
   "outputs": [],
   "source": [
    "my_items = ['potato','eggplant','chicken']"
   ]
  },
  {
   "cell_type": "code",
   "execution_count": 246,
   "metadata": {},
   "outputs": [],
   "source": [
    "def get_recipe(my_ingredietns):\n",
    "\n",
    "    query_recipe_dict = recipe_dict\n",
    "\n",
    "    for recipe in recipe_dict.items():\n",
    "        query_recipe_dict[[recipe[0]][0]] = round(sum([recipe[1].count(my_item) for my_item in my_items])/len(recipe[1]),3)\n",
    "\n",
    "    query_recipe_dict = {k: v for k, v in sorted(query_recipe_dict.items(), key=lambda item: item[1], reverse=True)}\n",
    "\n",
    "    return list(query_recipe_dict)[0].replace('recipe/','')"
   ]
  },
  {
   "cell_type": "code",
   "execution_count": 247,
   "metadata": {},
   "outputs": [
    {
     "data": {
      "text/plain": [
       "'Chicken-Pot-Pie-2029444'"
      ]
     },
     "execution_count": 247,
     "metadata": {},
     "output_type": "execute_result"
    }
   ],
   "source": [
    "get_the_recipe(['potato','eggplant','chicken'])"
   ]
  },
  {
   "cell_type": "code",
   "execution_count": 206,
   "metadata": {},
   "outputs": [],
   "source": []
  },
  {
   "cell_type": "code",
   "execution_count": 209,
   "metadata": {},
   "outputs": [
    {
     "data": {
      "text/plain": [
       "'-DIY-Homemade-Taco-Seasoning-9258139'"
      ]
     },
     "execution_count": 209,
     "metadata": {},
     "output_type": "execute_result"
    }
   ],
   "source": []
  },
  {
   "cell_type": "code",
   "execution_count": 146,
   "metadata": {},
   "outputs": [],
   "source": [
    "recipe_dict['recipe/-DIY-Homemade-Taco-Seasoning-9258139'] = len(recipe_dict['recipe/-DIY-Homemade-Taco-Seasoning-9258139'])"
   ]
  },
  {
   "cell_type": "code",
   "execution_count": 151,
   "metadata": {},
   "outputs": [],
   "source": [
    "query_dict = recipe_dict"
   ]
  },
  {
   "cell_type": "code",
   "execution_count": 138,
   "metadata": {},
   "outputs": [
    {
     "name": "stdout",
     "output_type": "stream",
     "text": [
      "('recipe/-DIY-Homemade-Taco-Seasoning-9258139', ['chili powder', 'ground cumin', 'salt', 'ground black pepper', 'garlic powder', 'dried oregano', 'paprika', 'onion powder', 'ground beef', 'taco seasoning', 'water', 'flour', 'taco shells', 'taco toppings'])\n"
     ]
    }
   ],
   "source": [
    "for recipe in recipe_dict.items():"
   ]
  },
  {
   "cell_type": "code",
   "execution_count": null,
   "metadata": {},
   "outputs": [],
   "source": []
  },
  {
   "cell_type": "code",
   "execution_count": 123,
   "metadata": {},
   "outputs": [
    {
     "name": "stdout",
     "output_type": "stream",
     "text": [
      "recipe/-DIY-Homemade-Taco-Seasoning-9258139\n",
      "ingedients_num\n",
      "recipe/Meatloaf-1512819\n",
      "recipe/Glazed-Meatloaf-1806994\n",
      "recipe/Easy-Tuna-Casserole-2602005\n",
      "recipe/GARLIC-BUTTER-SEAFOOD-BOIL-9231456\n",
      "recipe/Best-Salmon-Patties-2502752\n",
      "recipe/White-Velvet-Buttermilk-Cake-2689522\n",
      "recipe/Creamy-Chicken-Soup-9101918\n",
      "recipe/Instant-Pot-Chipotle-Pork-Shoulder-2617198\n",
      "recipe/Chicken-Pot-Pie-2029444\n",
      "recipe/1_-Honey-BBQ-Chicken-Wings-1593238\n",
      "recipe/Cinnamon-Roll-Waffles-9077581\n",
      "recipe/Chocolate-Zucchini-Cake-2633214\n",
      "recipe/Sinful-Apple-Muffins-2211726\n",
      "recipe/Carne-Asada-Traditional-Taco-2105782\n",
      "recipe/Avocado-Ranch-Pork-Chops-and-Rice-9343883\n",
      "recipe/Easy-Chicken-_-Cheese-Enchiladas-9339368\n",
      "recipe/Chicken-Teriyaki-Noodle-Bowls-9307995\n"
     ]
    }
   ],
   "source": [
    "for recipe_name in recipe_dict.keys():\n",
    "    print(recipe_name)"
   ]
  },
  {
   "cell_type": "code",
   "execution_count": 119,
   "metadata": {},
   "outputs": [
    {
     "name": "stdout",
     "output_type": "stream",
     "text": [
      "('recipe/-DIY-Homemade-Taco-Seasoning-9258139', ['chili powder', 'ground cumin', 'salt', 'ground black pepper', 'garlic powder', 'dried oregano', 'paprika', 'onion powder', 'ground beef', 'taco seasoning', 'water', 'flour', 'taco shells', 'taco toppings'])\n"
     ]
    }
   ],
   "source": [
    "query_dict = {}\n",
    "\n",
    "for recipe in recipe_dict.items():\n",
    "    print(recipe)\n",
    "    #print(recipe[0])\n",
    "    query_dict['recipe_name'] = recipe[0]\n",
    "    #print(sum([recipe[1].count(my_item) for my_item in my_items]))\n",
    "    query_dict['match_rate'] = sum([recipe[1].count(my_item) for my_item in my_items])/recipe[2]\n",
    "    \n",
    "    break"
   ]
  },
  {
   "cell_type": "code",
   "execution_count": 106,
   "metadata": {},
   "outputs": [
    {
     "data": {
      "text/plain": [
       "{'recipe_name': 'recipe/Chicken-Teriyaki-Noodle-Bowls-9307995', 'match': 1}"
      ]
     },
     "execution_count": 106,
     "metadata": {},
     "output_type": "execute_result"
    }
   ],
   "source": [
    "query_dict"
   ]
  },
  {
   "cell_type": "code",
   "execution_count": 62,
   "metadata": {},
   "outputs": [],
   "source": [
    "recipe = ['chili powder', 'ground cumin', 'salt', 'ground black pepper', 'garlic powder', 'dried oregano', 'paprika', 'onion powder', 'ground beef', 'taco seasoning', 'water', 'flour', 'taco shells', 'taco toppings']"
   ]
  },
  {
   "cell_type": "code",
   "execution_count": 71,
   "metadata": {},
   "outputs": [],
   "source": []
  },
  {
   "cell_type": "code",
   "execution_count": 79,
   "metadata": {},
   "outputs": [
    {
     "data": {
      "text/plain": [
       "3"
      ]
     },
     "execution_count": 79,
     "metadata": {},
     "output_type": "execute_result"
    }
   ],
   "source": [
    "sum([recipe.count(my_item) for my_item in my_items])"
   ]
  },
  {
   "cell_type": "code",
   "execution_count": null,
   "metadata": {},
   "outputs": [],
   "source": []
  }
 ],
 "metadata": {
  "interpreter": {
   "hash": "40d3a090f54c6569ab1632332b64b2c03c39dcf918b08424e98f38b5ae0af88f"
  },
  "kernelspec": {
   "display_name": "Python 3.7.4 64-bit ('base': conda)",
   "language": "python",
   "name": "python3"
  },
  "language_info": {
   "codemirror_mode": {
    "name": "ipython",
    "version": 3
   },
   "file_extension": ".py",
   "mimetype": "text/x-python",
   "name": "python",
   "nbconvert_exporter": "python",
   "pygments_lexer": "ipython3",
   "version": "3.7.4"
  },
  "orig_nbformat": 4
 },
 "nbformat": 4,
 "nbformat_minor": 2
}
